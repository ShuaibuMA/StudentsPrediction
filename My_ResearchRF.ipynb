{
 "cells": [
  {
   "cell_type": "code",
   "execution_count": 78,
   "id": "513c7500",
   "metadata": {},
   "outputs": [],
   "source": [
    "#Importing the important libraries i need\n",
    "import pandas as pd \n",
    "import numpy as np\n",
    "import seaborn as sns\n",
    "import matplotlib.pyplot as plt\n",
    "from sklearn.preprocessing import LabelEncoder\n",
    "from sklearn.model_selection import train_test_split\n",
    "from sklearn.ensemble import RandomForestClassifier\n",
    "from sklearn.metrics import confusion_matrix\n",
    "from sklearn.metrics import accuracy_score\n",
    "from sklearn.model_selection import cross_val_score\n",
    "from sklearn.metrics import classification_report\n",
    "from sklearn.metrics import mean_squared_error\n",
    "from time import time"
   ]
  },
  {
   "cell_type": "code",
   "execution_count": 79,
   "id": "a1897ff0",
   "metadata": {},
   "outputs": [],
   "source": [
    "df = pd.read_csv(\"research.csv\")"
   ]
  },
  {
   "cell_type": "code",
   "execution_count": 80,
   "id": "bba4ac65",
   "metadata": {},
   "outputs": [
    {
     "data": {
      "text/plain": [
       "(1028, 13)"
      ]
     },
     "execution_count": 80,
     "metadata": {},
     "output_type": "execute_result"
    }
   ],
   "source": [
    "df.shape"
   ]
  },
  {
   "cell_type": "code",
   "execution_count": 81,
   "id": "cb37ec5d",
   "metadata": {},
   "outputs": [
    {
     "data": {
      "text/html": [
       "<div>\n",
       "<style scoped>\n",
       "    .dataframe tbody tr th:only-of-type {\n",
       "        vertical-align: middle;\n",
       "    }\n",
       "\n",
       "    .dataframe tbody tr th {\n",
       "        vertical-align: top;\n",
       "    }\n",
       "\n",
       "    .dataframe thead th {\n",
       "        text-align: right;\n",
       "    }\n",
       "</style>\n",
       "<table border=\"1\" class=\"dataframe\">\n",
       "  <thead>\n",
       "    <tr style=\"text-align: right;\">\n",
       "      <th></th>\n",
       "      <th>Gender</th>\n",
       "      <th>Department</th>\n",
       "      <th>YOA</th>\n",
       "      <th>JAMB Maths Score</th>\n",
       "      <th>JAMB Score</th>\n",
       "      <th>OlevelMathsGrade</th>\n",
       "      <th>MAT101Grade</th>\n",
       "      <th>Were you given any form of assistance during your OLevel Mathematics examination?</th>\n",
       "      <th>Were you given any form of assistance during your JAMB examination?</th>\n",
       "      <th>Did you sat for your OLevel Mathematics examination yourself?</th>\n",
       "      <th>YOOE</th>\n",
       "      <th>YOJE</th>\n",
       "      <th>SOO</th>\n",
       "    </tr>\n",
       "  </thead>\n",
       "  <tbody>\n",
       "    <tr>\n",
       "      <th>0</th>\n",
       "      <td>Male</td>\n",
       "      <td>Computer</td>\n",
       "      <td>2018</td>\n",
       "      <td>55</td>\n",
       "      <td>209</td>\n",
       "      <td>A</td>\n",
       "      <td>A</td>\n",
       "      <td>No</td>\n",
       "      <td>No</td>\n",
       "      <td>Yes</td>\n",
       "      <td>2016</td>\n",
       "      <td>2018</td>\n",
       "      <td>Edo</td>\n",
       "    </tr>\n",
       "    <tr>\n",
       "      <th>1</th>\n",
       "      <td>Female</td>\n",
       "      <td>Building</td>\n",
       "      <td>2016</td>\n",
       "      <td>40</td>\n",
       "      <td>198</td>\n",
       "      <td>B</td>\n",
       "      <td>B</td>\n",
       "      <td>No</td>\n",
       "      <td>No</td>\n",
       "      <td>Yes</td>\n",
       "      <td>2015</td>\n",
       "      <td>2016</td>\n",
       "      <td>Kebbi</td>\n",
       "    </tr>\n",
       "    <tr>\n",
       "      <th>2</th>\n",
       "      <td>Female</td>\n",
       "      <td>Mathematics</td>\n",
       "      <td>2019</td>\n",
       "      <td>38</td>\n",
       "      <td>176</td>\n",
       "      <td>B</td>\n",
       "      <td>B</td>\n",
       "      <td>No</td>\n",
       "      <td>No</td>\n",
       "      <td>Yes</td>\n",
       "      <td>2018</td>\n",
       "      <td>2019</td>\n",
       "      <td>Anambra</td>\n",
       "    </tr>\n",
       "    <tr>\n",
       "      <th>3</th>\n",
       "      <td>Male</td>\n",
       "      <td>Mathematics</td>\n",
       "      <td>2017</td>\n",
       "      <td>39</td>\n",
       "      <td>179</td>\n",
       "      <td>B</td>\n",
       "      <td>B</td>\n",
       "      <td>No</td>\n",
       "      <td>No</td>\n",
       "      <td>Yes</td>\n",
       "      <td>2016</td>\n",
       "      <td>2017</td>\n",
       "      <td>Kwara</td>\n",
       "    </tr>\n",
       "    <tr>\n",
       "      <th>4</th>\n",
       "      <td>Female</td>\n",
       "      <td>Statistics</td>\n",
       "      <td>2016</td>\n",
       "      <td>40</td>\n",
       "      <td>180</td>\n",
       "      <td>B</td>\n",
       "      <td>C</td>\n",
       "      <td>No</td>\n",
       "      <td>No</td>\n",
       "      <td>No</td>\n",
       "      <td>2016</td>\n",
       "      <td>2016</td>\n",
       "      <td>Kaduna</td>\n",
       "    </tr>\n",
       "  </tbody>\n",
       "</table>\n",
       "</div>"
      ],
      "text/plain": [
       "   Gender   Department    YOA  JAMB Maths Score  JAMB Score OlevelMathsGrade  \\\n",
       "0    Male     Computer   2018                55         209                A   \n",
       "1  Female     Building   2016                40         198                B   \n",
       "2  Female  Mathematics   2019                38         176                B   \n",
       "3    Male  Mathematics   2017                39         179                B   \n",
       "4  Female   Statistics   2016                40         180                B   \n",
       "\n",
       "  MAT101Grade  \\\n",
       "0           A   \n",
       "1           B   \n",
       "2           B   \n",
       "3           B   \n",
       "4           C   \n",
       "\n",
       "  Were you given any form of assistance during your OLevel Mathematics examination?  \\\n",
       "0                                                 No                                  \n",
       "1                                                 No                                  \n",
       "2                                                 No                                  \n",
       "3                                                 No                                  \n",
       "4                                                 No                                  \n",
       "\n",
       "  Were you given any form of assistance during your JAMB examination?  \\\n",
       "0                                                 No                    \n",
       "1                                                 No                    \n",
       "2                                                 No                    \n",
       "3                                                 No                    \n",
       "4                                                 No                    \n",
       "\n",
       "  Did you sat for your OLevel Mathematics examination yourself?  YOOE  YOJE  \\\n",
       "0                                                Yes             2016  2018   \n",
       "1                                                Yes             2015  2016   \n",
       "2                                                Yes             2018  2019   \n",
       "3                                                Yes             2016  2017   \n",
       "4                                                 No             2016  2016   \n",
       "\n",
       "       SOO  \n",
       "0      Edo  \n",
       "1   Kebbi   \n",
       "2  Anambra  \n",
       "3   Kwara   \n",
       "4  Kaduna   "
      ]
     },
     "execution_count": 81,
     "metadata": {},
     "output_type": "execute_result"
    }
   ],
   "source": [
    "df.head()"
   ]
  },
  {
   "cell_type": "code",
   "execution_count": 82,
   "id": "66968bea",
   "metadata": {},
   "outputs": [
    {
     "data": {
      "text/html": [
       "<div>\n",
       "<style scoped>\n",
       "    .dataframe tbody tr th:only-of-type {\n",
       "        vertical-align: middle;\n",
       "    }\n",
       "\n",
       "    .dataframe tbody tr th {\n",
       "        vertical-align: top;\n",
       "    }\n",
       "\n",
       "    .dataframe thead th {\n",
       "        text-align: right;\n",
       "    }\n",
       "</style>\n",
       "<table border=\"1\" class=\"dataframe\">\n",
       "  <thead>\n",
       "    <tr style=\"text-align: right;\">\n",
       "      <th></th>\n",
       "      <th>YOA</th>\n",
       "      <th>JAMB Maths Score</th>\n",
       "      <th>JAMB Score</th>\n",
       "      <th>YOOE</th>\n",
       "      <th>YOJE</th>\n",
       "    </tr>\n",
       "  </thead>\n",
       "  <tbody>\n",
       "    <tr>\n",
       "      <th>count</th>\n",
       "      <td>1028.000000</td>\n",
       "      <td>1028.000000</td>\n",
       "      <td>1028.000000</td>\n",
       "      <td>1028.000000</td>\n",
       "      <td>1028.000000</td>\n",
       "    </tr>\n",
       "    <tr>\n",
       "      <th>mean</th>\n",
       "      <td>2017.569066</td>\n",
       "      <td>44.987354</td>\n",
       "      <td>192.704280</td>\n",
       "      <td>2013.242218</td>\n",
       "      <td>2017.544747</td>\n",
       "    </tr>\n",
       "    <tr>\n",
       "      <th>std</th>\n",
       "      <td>1.611212</td>\n",
       "      <td>15.629997</td>\n",
       "      <td>101.662213</td>\n",
       "      <td>80.037654</td>\n",
       "      <td>71.723456</td>\n",
       "    </tr>\n",
       "    <tr>\n",
       "      <th>min</th>\n",
       "      <td>2007.000000</td>\n",
       "      <td>0.000000</td>\n",
       "      <td>0.000000</td>\n",
       "      <td>202.000000</td>\n",
       "      <td>206.000000</td>\n",
       "    </tr>\n",
       "    <tr>\n",
       "      <th>25%</th>\n",
       "      <td>2016.750000</td>\n",
       "      <td>40.000000</td>\n",
       "      <td>180.000000</td>\n",
       "      <td>2016.000000</td>\n",
       "      <td>2016.000000</td>\n",
       "    </tr>\n",
       "    <tr>\n",
       "      <th>50%</th>\n",
       "      <td>2018.000000</td>\n",
       "      <td>45.000000</td>\n",
       "      <td>188.000000</td>\n",
       "      <td>2017.000000</td>\n",
       "      <td>2017.000000</td>\n",
       "    </tr>\n",
       "    <tr>\n",
       "      <th>75%</th>\n",
       "      <td>2019.000000</td>\n",
       "      <td>49.000000</td>\n",
       "      <td>198.000000</td>\n",
       "      <td>2018.000000</td>\n",
       "      <td>2019.000000</td>\n",
       "    </tr>\n",
       "    <tr>\n",
       "      <th>max</th>\n",
       "      <td>2022.000000</td>\n",
       "      <td>245.000000</td>\n",
       "      <td>2019.000000</td>\n",
       "      <td>2027.000000</td>\n",
       "      <td>3017.000000</td>\n",
       "    </tr>\n",
       "  </tbody>\n",
       "</table>\n",
       "</div>"
      ],
      "text/plain": [
       "               YOA  JAMB Maths Score   JAMB Score         YOOE         YOJE\n",
       "count  1028.000000       1028.000000  1028.000000  1028.000000  1028.000000\n",
       "mean   2017.569066         44.987354   192.704280  2013.242218  2017.544747\n",
       "std       1.611212         15.629997   101.662213    80.037654    71.723456\n",
       "min    2007.000000          0.000000     0.000000   202.000000   206.000000\n",
       "25%    2016.750000         40.000000   180.000000  2016.000000  2016.000000\n",
       "50%    2018.000000         45.000000   188.000000  2017.000000  2017.000000\n",
       "75%    2019.000000         49.000000   198.000000  2018.000000  2019.000000\n",
       "max    2022.000000        245.000000  2019.000000  2027.000000  3017.000000"
      ]
     },
     "execution_count": 82,
     "metadata": {},
     "output_type": "execute_result"
    }
   ],
   "source": [
    "#Exploring the dataset to get some statistical information\n",
    "df.describe()"
   ]
  },
  {
   "cell_type": "code",
   "execution_count": 83,
   "id": "7488f37f",
   "metadata": {},
   "outputs": [],
   "source": [
    "#Converting dataset to categorical\n",
    "df[\"YOA\"]=df[\"YOA\"].astype(\"category\")\n",
    "df[\"Gender\"]=df[\"Gender\"].astype(\"category\")\n",
    "df[\"JAMB Maths Score\"]=df[\"JAMB Maths Score\"].astype(\"category\")\n",
    "df[\"JAMB Score\"]=df[\"JAMB Score\"].astype(\"category\")\n",
    "df[\"OlevelMathsGrade\"]=df[\"OlevelMathsGrade\"].astype(\"category\")\n",
    "df[\"MAT101Grade\"]=df[\"MAT101Grade\"].astype(\"category\")\n",
    "df[\"Were you given any form of assistance during your JAMB examination?\"]=df[\"Were you given any form of assistance during your JAMB examination?\"].astype(\"category\")\n",
    "df[\"Were you given any form of assistance during your OLevel Mathematics examination?\"]=df[\"Were you given any form of assistance during your OLevel Mathematics examination?\"].astype(\"category\")\n",
    "df[\"Did you sat for your OLevel Mathematics examination yourself?\"]=df[\"Did you sat for your OLevel Mathematics examination yourself?\"].astype(\"category\")\n",
    "df[\"YOOE\"]=df[\"YOOE\"].astype(\"category\")\n",
    "df[\"YOJE\"]=df[\"YOJE\"].astype(\"category\")\n",
    "df[\"SOO\"]=df[\"SOO\"].astype(\"category\")\n",
    "df[\"Department \"]=df[\"Department \"].astype(\"category\")"
   ]
  },
  {
   "cell_type": "code",
   "execution_count": 84,
   "id": "b3618f23",
   "metadata": {},
   "outputs": [
    {
     "name": "stdout",
     "output_type": "stream",
     "text": [
      "<class 'pandas.core.frame.DataFrame'>\n",
      "RangeIndex: 1028 entries, 0 to 1027\n",
      "Data columns (total 13 columns):\n",
      " #   Column                                                                             Non-Null Count  Dtype   \n",
      "---  ------                                                                             --------------  -----   \n",
      " 0   Gender                                                                             1028 non-null   category\n",
      " 1   Department                                                                         1028 non-null   category\n",
      " 2   YOA                                                                                1028 non-null   category\n",
      " 3   JAMB Maths Score                                                                   1028 non-null   category\n",
      " 4   JAMB Score                                                                         1028 non-null   category\n",
      " 5   OlevelMathsGrade                                                                   1028 non-null   category\n",
      " 6   MAT101Grade                                                                        1028 non-null   category\n",
      " 7   Were you given any form of assistance during your OLevel Mathematics examination?  1028 non-null   category\n",
      " 8   Were you given any form of assistance during your JAMB examination?                1028 non-null   category\n",
      " 9   Did you sat for your OLevel Mathematics examination yourself?                      1028 non-null   category\n",
      " 10  YOOE                                                                               1028 non-null   category\n",
      " 11  YOJE                                                                               1028 non-null   category\n",
      " 12  SOO                                                                                1028 non-null   category\n",
      "dtypes: category(13)\n",
      "memory usage: 25.0 KB\n"
     ]
    }
   ],
   "source": [
    "df.info()"
   ]
  },
  {
   "cell_type": "code",
   "execution_count": 85,
   "id": "7462bc87",
   "metadata": {},
   "outputs": [
    {
     "data": {
      "text/plain": [
       "Gender                                                                               0\n",
       "Department                                                                           0\n",
       "YOA                                                                                  0\n",
       "JAMB Maths Score                                                                     0\n",
       "JAMB Score                                                                           0\n",
       "OlevelMathsGrade                                                                     0\n",
       "MAT101Grade                                                                          0\n",
       "Were you given any form of assistance during your OLevel Mathematics examination?    0\n",
       "Were you given any form of assistance during your JAMB examination?                  0\n",
       "Did you sat for your OLevel Mathematics examination yourself?                        0\n",
       "YOOE                                                                                 0\n",
       "YOJE                                                                                 0\n",
       "SOO                                                                                  0\n",
       "dtype: int64"
      ]
     },
     "execution_count": 85,
     "metadata": {},
     "output_type": "execute_result"
    }
   ],
   "source": [
    "#Checking for null values in my dataset\n",
    "df.isnull().sum()"
   ]
  },
  {
   "cell_type": "code",
   "execution_count": 86,
   "id": "820a5481",
   "metadata": {},
   "outputs": [
    {
     "data": {
      "text/plain": [
       "B    477\n",
       "C    285\n",
       "A    217\n",
       "E     23\n",
       "D     22\n",
       "F      4\n",
       "Name: MAT101Grade, dtype: int64"
      ]
     },
     "execution_count": 86,
     "metadata": {},
     "output_type": "execute_result"
    }
   ],
   "source": [
    "#Checking the performance of students in MAT101\n",
    "df[\"MAT101Grade\"].value_counts()"
   ]
  },
  {
   "cell_type": "code",
   "execution_count": 87,
   "id": "5c062358",
   "metadata": {},
   "outputs": [],
   "source": [
    "#here I dropped some unwanted columns which are not necessary in the dataset\n",
    "\n",
    "df.drop(['YOA','YOJE','Were you given any form of assistance during your OLevel Mathematics examination?','Were you given any form of assistance during your JAMB examination?','Did you sat for your OLevel Mathematics examination yourself?','YOOE','SOO','Department ',], axis=1,inplace=True)"
   ]
  },
  {
   "cell_type": "code",
   "execution_count": 88,
   "id": "b032c602",
   "metadata": {},
   "outputs": [
    {
     "data": {
      "text/html": [
       "<div>\n",
       "<style scoped>\n",
       "    .dataframe tbody tr th:only-of-type {\n",
       "        vertical-align: middle;\n",
       "    }\n",
       "\n",
       "    .dataframe tbody tr th {\n",
       "        vertical-align: top;\n",
       "    }\n",
       "\n",
       "    .dataframe thead th {\n",
       "        text-align: right;\n",
       "    }\n",
       "</style>\n",
       "<table border=\"1\" class=\"dataframe\">\n",
       "  <thead>\n",
       "    <tr style=\"text-align: right;\">\n",
       "      <th></th>\n",
       "      <th>Gender</th>\n",
       "      <th>JAMB Maths Score</th>\n",
       "      <th>JAMB Score</th>\n",
       "      <th>OlevelMathsGrade</th>\n",
       "      <th>MAT101Grade</th>\n",
       "    </tr>\n",
       "  </thead>\n",
       "  <tbody>\n",
       "    <tr>\n",
       "      <th>0</th>\n",
       "      <td>Male</td>\n",
       "      <td>55</td>\n",
       "      <td>209</td>\n",
       "      <td>A</td>\n",
       "      <td>A</td>\n",
       "    </tr>\n",
       "    <tr>\n",
       "      <th>1</th>\n",
       "      <td>Female</td>\n",
       "      <td>40</td>\n",
       "      <td>198</td>\n",
       "      <td>B</td>\n",
       "      <td>B</td>\n",
       "    </tr>\n",
       "    <tr>\n",
       "      <th>2</th>\n",
       "      <td>Female</td>\n",
       "      <td>38</td>\n",
       "      <td>176</td>\n",
       "      <td>B</td>\n",
       "      <td>B</td>\n",
       "    </tr>\n",
       "    <tr>\n",
       "      <th>3</th>\n",
       "      <td>Male</td>\n",
       "      <td>39</td>\n",
       "      <td>179</td>\n",
       "      <td>B</td>\n",
       "      <td>B</td>\n",
       "    </tr>\n",
       "    <tr>\n",
       "      <th>4</th>\n",
       "      <td>Female</td>\n",
       "      <td>40</td>\n",
       "      <td>180</td>\n",
       "      <td>B</td>\n",
       "      <td>C</td>\n",
       "    </tr>\n",
       "  </tbody>\n",
       "</table>\n",
       "</div>"
      ],
      "text/plain": [
       "   Gender JAMB Maths Score JAMB Score OlevelMathsGrade MAT101Grade\n",
       "0    Male               55        209                A           A\n",
       "1  Female               40        198                B           B\n",
       "2  Female               38        176                B           B\n",
       "3    Male               39        179                B           B\n",
       "4  Female               40        180                B           C"
      ]
     },
     "execution_count": 88,
     "metadata": {},
     "output_type": "execute_result"
    }
   ],
   "source": [
    "df.head()"
   ]
  },
  {
   "cell_type": "code",
   "execution_count": 89,
   "id": "48ff69fd",
   "metadata": {},
   "outputs": [
    {
     "name": "stdout",
     "output_type": "stream",
     "text": [
      "<class 'pandas.core.frame.DataFrame'>\n",
      "RangeIndex: 1028 entries, 0 to 1027\n",
      "Data columns (total 5 columns):\n",
      " #   Column            Non-Null Count  Dtype   \n",
      "---  ------            --------------  -----   \n",
      " 0   Gender            1028 non-null   category\n",
      " 1   JAMB Maths Score  1028 non-null   category\n",
      " 2   JAMB Score        1028 non-null   category\n",
      " 3   OlevelMathsGrade  1028 non-null   category\n",
      " 4   MAT101Grade       1028 non-null   category\n",
      "dtypes: category(5)\n",
      "memory usage: 9.7 KB\n"
     ]
    }
   ],
   "source": [
    "df.info()"
   ]
  },
  {
   "cell_type": "code",
   "execution_count": 90,
   "id": "bd20e24c",
   "metadata": {},
   "outputs": [],
   "source": [
    "LE = LabelEncoder() #creating an instance of label encoder"
   ]
  },
  {
   "cell_type": "code",
   "execution_count": 91,
   "id": "6f02d7ea",
   "metadata": {},
   "outputs": [],
   "source": [
    "df.MAT101Grade = LE.fit_transform(df.MAT101Grade)"
   ]
  },
  {
   "cell_type": "code",
   "execution_count": 92,
   "id": "b548fd2e",
   "metadata": {},
   "outputs": [],
   "source": [
    "df.OlevelMathsGrade = LE.fit_transform(df.OlevelMathsGrade)"
   ]
  },
  {
   "cell_type": "code",
   "execution_count": 93,
   "id": "c2174948",
   "metadata": {},
   "outputs": [],
   "source": [
    "df.Gender = LE.fit_transform(df.Gender)"
   ]
  },
  {
   "cell_type": "code",
   "execution_count": 94,
   "id": "17875eb2",
   "metadata": {},
   "outputs": [
    {
     "data": {
      "text/html": [
       "<div>\n",
       "<style scoped>\n",
       "    .dataframe tbody tr th:only-of-type {\n",
       "        vertical-align: middle;\n",
       "    }\n",
       "\n",
       "    .dataframe tbody tr th {\n",
       "        vertical-align: top;\n",
       "    }\n",
       "\n",
       "    .dataframe thead th {\n",
       "        text-align: right;\n",
       "    }\n",
       "</style>\n",
       "<table border=\"1\" class=\"dataframe\">\n",
       "  <thead>\n",
       "    <tr style=\"text-align: right;\">\n",
       "      <th></th>\n",
       "      <th>Gender</th>\n",
       "      <th>JAMB Maths Score</th>\n",
       "      <th>JAMB Score</th>\n",
       "      <th>OlevelMathsGrade</th>\n",
       "      <th>MAT101Grade</th>\n",
       "    </tr>\n",
       "  </thead>\n",
       "  <tbody>\n",
       "    <tr>\n",
       "      <th>0</th>\n",
       "      <td>1</td>\n",
       "      <td>55</td>\n",
       "      <td>209</td>\n",
       "      <td>0</td>\n",
       "      <td>0</td>\n",
       "    </tr>\n",
       "    <tr>\n",
       "      <th>1</th>\n",
       "      <td>0</td>\n",
       "      <td>40</td>\n",
       "      <td>198</td>\n",
       "      <td>1</td>\n",
       "      <td>1</td>\n",
       "    </tr>\n",
       "    <tr>\n",
       "      <th>2</th>\n",
       "      <td>0</td>\n",
       "      <td>38</td>\n",
       "      <td>176</td>\n",
       "      <td>1</td>\n",
       "      <td>1</td>\n",
       "    </tr>\n",
       "    <tr>\n",
       "      <th>3</th>\n",
       "      <td>1</td>\n",
       "      <td>39</td>\n",
       "      <td>179</td>\n",
       "      <td>1</td>\n",
       "      <td>1</td>\n",
       "    </tr>\n",
       "    <tr>\n",
       "      <th>4</th>\n",
       "      <td>0</td>\n",
       "      <td>40</td>\n",
       "      <td>180</td>\n",
       "      <td>1</td>\n",
       "      <td>2</td>\n",
       "    </tr>\n",
       "  </tbody>\n",
       "</table>\n",
       "</div>"
      ],
      "text/plain": [
       "   Gender JAMB Maths Score JAMB Score  OlevelMathsGrade  MAT101Grade\n",
       "0       1               55        209                 0            0\n",
       "1       0               40        198                 1            1\n",
       "2       0               38        176                 1            1\n",
       "3       1               39        179                 1            1\n",
       "4       0               40        180                 1            2"
      ]
     },
     "execution_count": 94,
     "metadata": {},
     "output_type": "execute_result"
    }
   ],
   "source": [
    "df.head()"
   ]
  },
  {
   "cell_type": "code",
   "execution_count": 95,
   "id": "dce70376",
   "metadata": {},
   "outputs": [],
   "source": [
    "x = df.iloc[:,:-1] #This mean I want all the columns except the last one which is the target column \n",
    "y = df.iloc[:, -1]# This time I want the target variable which is the last column"
   ]
  },
  {
   "cell_type": "code",
   "execution_count": 96,
   "id": "a4eeb639",
   "metadata": {},
   "outputs": [
    {
     "data": {
      "text/plain": [
       "(1028, 4)"
      ]
     },
     "execution_count": 96,
     "metadata": {},
     "output_type": "execute_result"
    }
   ],
   "source": [
    "x.shape"
   ]
  },
  {
   "cell_type": "code",
   "execution_count": 97,
   "id": "f2632f1b",
   "metadata": {},
   "outputs": [
    {
     "data": {
      "text/plain": [
       "(1028,)"
      ]
     },
     "execution_count": 97,
     "metadata": {},
     "output_type": "execute_result"
    }
   ],
   "source": [
    "y.shape"
   ]
  },
  {
   "cell_type": "code",
   "execution_count": 98,
   "id": "7116fa32",
   "metadata": {},
   "outputs": [],
   "source": [
    "#Splitting the dataset into training and testing\n",
    "x_train, x_test, y_train, y_test = train_test_split(x,y, test_size=0.10, random_state=70)"
   ]
  },
  {
   "cell_type": "code",
   "execution_count": 99,
   "id": "f0c5a75a",
   "metadata": {},
   "outputs": [
    {
     "data": {
      "text/plain": [
       "(925,)"
      ]
     },
     "execution_count": 99,
     "metadata": {},
     "output_type": "execute_result"
    }
   ],
   "source": [
    "y_train.shape"
   ]
  },
  {
   "cell_type": "code",
   "execution_count": 100,
   "id": "5f042e2f",
   "metadata": {},
   "outputs": [],
   "source": [
    "#Making object of the Random Forest Classifier for my required hyper parameters\n",
    "clf = RandomForestClassifier(criterion = \"gini\", #the values of gini purity lies between 0 and 1\n",
    "                            max_depth = 8, #Maximum depth of the tree as it grow\n",
    "                            min_samples_split = 10, #minimum number of samples required to split node and bracnh of the tree\n",
    "                            random_state = 5)"
   ]
  },
  {
   "cell_type": "code",
   "execution_count": 101,
   "id": "43747fb7",
   "metadata": {},
   "outputs": [
    {
     "data": {
      "text/plain": [
       "RandomForestClassifier(max_depth=8, min_samples_split=10, random_state=5)"
      ]
     },
     "execution_count": 101,
     "metadata": {},
     "output_type": "execute_result"
    }
   ],
   "source": [
    "clf.fit(x_train, y_train)"
   ]
  },
  {
   "cell_type": "code",
   "execution_count": 102,
   "id": "9220064d",
   "metadata": {},
   "outputs": [
    {
     "data": {
      "text/plain": [
       "array([0.05998485, 0.39738365, 0.40814995, 0.13448156])"
      ]
     },
     "execution_count": 102,
     "metadata": {},
     "output_type": "execute_result"
    }
   ],
   "source": [
    "#Looking at the important feature since we have so many independent variables\n",
    "clf.feature_importances_"
   ]
  },
  {
   "cell_type": "code",
   "execution_count": 103,
   "id": "724e37aa",
   "metadata": {},
   "outputs": [
    {
     "data": {
      "text/plain": [
       "Index(['Gender', 'JAMB Maths Score', 'JAMB Score', 'OlevelMathsGrade',\n",
       "       'MAT101Grade'],\n",
       "      dtype='object')"
      ]
     },
     "execution_count": 103,
     "metadata": {},
     "output_type": "execute_result"
    }
   ],
   "source": [
    "#looking at the importance of the variables from column view (in terms of percentage)\n",
    "df.columns"
   ]
  },
  {
   "cell_type": "code",
   "execution_count": 104,
   "id": "5e564a7f",
   "metadata": {},
   "outputs": [],
   "source": [
    "y_pred = clf.predict(x_test)"
   ]
  },
  {
   "cell_type": "code",
   "execution_count": 105,
   "id": "571d5d7b",
   "metadata": {},
   "outputs": [
    {
     "data": {
      "text/plain": [
       "array([1, 1, 1, 0, 1, 3, 1, 1, 2, 1, 0, 1, 3, 5, 1, 0, 1, 4, 1, 2, 2, 1,\n",
       "       0, 0, 1, 1, 1, 1, 2, 1, 0, 0, 1, 2, 1, 2, 1, 0, 2, 1, 2, 1, 2, 0,\n",
       "       0, 1, 1, 2, 1, 1, 1, 1, 0, 1, 1, 1, 2, 0, 1, 1, 2, 1, 1, 1, 0, 0,\n",
       "       1, 1, 1, 1, 1, 1, 1, 1, 2, 1, 1, 1, 1, 3, 1, 2, 1, 2, 1, 2, 1, 2,\n",
       "       1, 1, 1, 1, 1, 1, 2, 1, 2, 1, 1, 1, 0, 0, 2])"
      ]
     },
     "execution_count": 105,
     "metadata": {},
     "output_type": "execute_result"
    }
   ],
   "source": [
    "y_pred"
   ]
  },
  {
   "cell_type": "code",
   "execution_count": 106,
   "id": "0776f0d2",
   "metadata": {},
   "outputs": [
    {
     "data": {
      "text/plain": [
       "array([[12,  8,  0,  0,  0,  0],\n",
       "       [ 3, 42,  0,  0,  0,  0],\n",
       "       [ 1, 10, 20,  0,  0,  0],\n",
       "       [ 0,  2,  0,  3,  0,  0],\n",
       "       [ 0,  0,  0,  0,  1,  0],\n",
       "       [ 0,  0,  0,  0,  0,  1]], dtype=int64)"
      ]
     },
     "execution_count": 106,
     "metadata": {},
     "output_type": "execute_result"
    }
   ],
   "source": [
    "#This means all the values on the diagonal are correcly classified while the ones off diagonal are misclassified\n",
    "confusion_matrix(y_test, y_pred)"
   ]
  },
  {
   "cell_type": "code",
   "execution_count": 107,
   "id": "64e69516",
   "metadata": {},
   "outputs": [
    {
     "data": {
      "text/plain": [
       "0.7669902912621359"
      ]
     },
     "execution_count": 107,
     "metadata": {},
     "output_type": "execute_result"
    }
   ],
   "source": [
    "#Accuracy of the model\n",
    "accuracy_score(y_test, y_pred)"
   ]
  },
  {
   "cell_type": "code",
   "execution_count": 108,
   "id": "0cdf411c",
   "metadata": {},
   "outputs": [
    {
     "name": "stderr",
     "output_type": "stream",
     "text": [
      "C:\\Users\\S. M. AUDU\\Documents\\conda\\lib\\site-packages\\sklearn\\model_selection\\_split.py:676: UserWarning: The least populated class in y has only 3 members, which is less than n_splits=10.\n",
      "  warnings.warn(\n"
     ]
    },
    {
     "data": {
      "text/plain": [
       "array([0.64516129, 0.74193548, 0.77419355, 0.77419355, 0.77419355,\n",
       "       0.80434783, 0.81521739, 0.73913043, 0.77173913, 0.73913043])"
      ]
     },
     "execution_count": 108,
     "metadata": {},
     "output_type": "execute_result"
    }
   ],
   "source": [
    "#Doing a cross validation in percentage\n",
    "cross_val_score(clf, x_train, y_train, cv =10)"
   ]
  },
  {
   "cell_type": "code",
   "execution_count": 109,
   "id": "00c5cd3e",
   "metadata": {},
   "outputs": [
    {
     "name": "stdout",
     "output_type": "stream",
     "text": [
      "              precision    recall  f1-score   support\n",
      "\n",
      "           0       0.60      0.75      0.67        16\n",
      "           1       0.93      0.68      0.79        62\n",
      "           2       0.65      1.00      0.78        20\n",
      "           3       0.60      1.00      0.75         3\n",
      "           4       1.00      1.00      1.00         1\n",
      "           5       1.00      1.00      1.00         1\n",
      "\n",
      "    accuracy                           0.77       103\n",
      "   macro avg       0.80      0.90      0.83       103\n",
      "weighted avg       0.82      0.77      0.77       103\n",
      "\n"
     ]
    }
   ],
   "source": [
    "#Printing the classification report\n",
    "print(classification_report(y_pred, y_test))"
   ]
  },
  {
   "cell_type": "code",
   "execution_count": 110,
   "id": "acf02613",
   "metadata": {},
   "outputs": [
    {
     "data": {
      "image/png": "[encoded data removed]",
      "text/plain": [
       "<Figure size 432x288 with 1 Axes>"
      ]
     },
     "metadata": {
      "needs_background": "light"
     },
     "output_type": "display_data"
    }
   ],
   "source": [
    "#Making a plot for feature importance of the model. This mean JAMB Maths Score is the most important feature in our\n",
    "#classification model\n",
    "\n",
    "features = df.columns\n",
    "importances = clf.feature_importances_\n",
    "indices = np.argsort(importances)\n",
    "\n",
    "plt.title('Feature importances')\n",
    "plt.barh(range(len(indices)), importances[indices], color='b', align='center')\n",
    "plt.yticks(range(len(indices)),[features[i] for i in indices])\n",
    "plt.xlabel('Relative importance')\n",
    "plt.show()"
   ]
  },
  {
   "cell_type": "code",
   "execution_count": 111,
   "id": "0ed9d14d",
   "metadata": {},
   "outputs": [
    {
     "data": {
      "text/plain": [
       "0.32038834951456313"
      ]
     },
     "execution_count": 111,
     "metadata": {},
     "output_type": "execute_result"
    }
   ],
   "source": [
    "mean_squared_error(y_test, y_pred)"
   ]
  },
  {
   "cell_type": "code",
   "execution_count": 112,
   "id": "e3b43a24",
   "metadata": {},
   "outputs": [
    {
     "data": {
      "text/plain": [
       "0.5660285765882878"
      ]
     },
     "execution_count": 112,
     "metadata": {},
     "output_type": "execute_result"
    }
   ],
   "source": [
    "np.sqrt(mean_squared_error(y_test, y_pred))"
   ]
  },
  {
   "cell_type": "code",
   "execution_count": null,
   "id": "bb5b9719",
   "metadata": {},
   "outputs": [],
   "source": []
  }
 ],
 "metadata": {
  "kernelspec": {
   "display_name": "Python 3 (ipykernel)",
   "language": "python",
   "name": "python3"
  },
  "language_info": {
   "codemirror_mode": {
    "name": "ipython",
    "version": 3
   },
   "file_extension": ".py",
   "mimetype": "text/x-python",
   "name": "python",
   "nbconvert_exporter": "python",
   "pygments_lexer": "ipython3",
   "version": "3.9.12"
  }
 },
 "nbformat": 4,
 "nbformat_minor": 5
}
